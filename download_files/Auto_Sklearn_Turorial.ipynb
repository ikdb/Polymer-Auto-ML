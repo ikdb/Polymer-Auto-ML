{
  "cells": [
    {
      "cell_type": "markdown",
      "metadata": {},
      "source": [
        "Title: Auto-Sklearn Tutorial for Tabular Data\n",
        "\n",
        "Introduction: In this tutorial, we will explore auto-sklearn, an automated machine learning (AutoML) tool designed to simplify and automate the process of selecting and optimizing machine learning models. Auto-sklearn is a powerful extension of the popular scikit-learn library, leveraging Bayesian optimization, meta-learning, and ensemble methods to automatically find and fine-tune the best machine learning models for your specific data."
      ]
    },
    {
      "cell_type": "markdown",
      "metadata": {},
      "source": [
        "# Step 1: Install Necessary Libraries"
      ]
    },
    {
      "cell_type": "code",
      "execution_count": null,
      "metadata": {
        "collapsed": false
      },
      "outputs": [],
      "source": [
        "%pip install matplotlib\n",
        "%pip install pandas\n",
        "%pip install auto-sklearn"
      ]
    },
    {
      "cell_type": "markdown",
      "metadata": {},
      "source": [
        "# Step 2: Import Libraries and Load Dataset"
      ]
    },
    {
      "cell_type": "code",
      "execution_count": null,
      "metadata": {
        "collapsed": false
      },
      "outputs": [],
      "source": [
        "from pprint import pprint\n",
        "import autosklearn.regression\n",
        "import matplotlib.pyplot as plt\n",
        "import pandas as pd\n",
        "\n",
        "# Load the dataset\n",
        "df = pd.read_csv(\"/path/to/your/dataset\")"
      ]
    },
    {
      "cell_type": "markdown",
      "metadata": {},
      "source": [
        "# Step 3: Split the Dataset into Training and Testing Sets\n"
      ]
    },
    {
      "cell_type": "code",
      "execution_count": null,
      "metadata": {
        "collapsed": false
      },
      "outputs": [],
      "source": [
        "# Define the ratio of the dataset to be used for training\n",
        "# You can change the value of train_ratio to adjust the train-test split ratio\n",
        "train_ratio = 0.8\n",
        "\n",
        "# Calculate the split index\n",
        "split_index = int(len(df) * train_ratio)\n",
        "\n",
        "# Split the dataset\n",
        "train_df = df[:split_index]\n",
        "test_df = df[split_index:]"
      ]
    },
    {
      "cell_type": "markdown",
      "metadata": {},
      "source": [
        "## Step 4: Prepare the Data and fit a regressor\n",
        "\n"
      ]
    },
    {
      "cell_type": "code",
      "execution_count": null,
      "metadata": {
        "collapsed": false
      },
      "outputs": [],
      "source": [
        "# Define the target column\n",
        "target_column = \"your_target_column\"\n",
        "\n",
        "# Separate features and target variable for training and testing sets\n",
        "X_train = train_df.drop(columns=[target_column]).to_numpy()\n",
        "y_train = train_df[target_column].to_numpy()\n",
        "\n",
        "X_test = test_df.drop(columns=[target_column]).to_numpy()\n",
        "y_test = test_df[target_column].to_numpy()\n",
        "\n",
        "automl = autosklearn.regression.AutoSklearnRegressor(\n",
        "    time_left_for_this_task=120,\n",
        "    per_run_time_limit=30,\n",
        "    tmp_folder=\"/tmp/autosklearn_regression_example_tmp\",\n",
        ")\n",
        "automl.fit(X_train, y_train, dataset_name=\"diabetes\")"
      ]
    },
    {
      "cell_type": "markdown",
      "metadata": {},
      "source": [
        "## Step 5: View the models found by auto-sklearn\n",
        "\n"
      ]
    },
    {
      "cell_type": "code",
      "execution_count": null,
      "metadata": {
        "collapsed": false
      },
      "outputs": [],
      "source": [
        "print(automl.leaderboard())"
      ]
    },
    {
      "cell_type": "markdown",
      "metadata": {},
      "source": [
        "## Step 6: Print the final ensemble constructed by auto-sklearn\n",
        "\n"
      ]
    },
    {
      "cell_type": "code",
      "execution_count": null,
      "metadata": {
        "collapsed": false
      },
      "outputs": [],
      "source": [
        "pprint(automl.show_models(), indent=4)"
      ]
    },
    {
      "cell_type": "markdown",
      "metadata": {},
      "source": [
        "## Step 7: Get the Score of the final ensemble\n",
        "After training the estimator, we can now quantify the goodness of fit. One possibility for\n",
        "is the [R2 score](https://scikit-learn.org/stable/modules/model_evaluation.html#r2-score).\n",
        "The values range between -inf and 1 with 1 being the best possible value. A dummy estimator\n",
        "predicting the data mean has an R2 score of 0.\n",
        "\n"
      ]
    },
    {
      "cell_type": "code",
      "execution_count": null,
      "metadata": {
        "collapsed": false
      },
      "outputs": [],
      "source": [
        "train_predictions = automl.predict(X_train)\n",
        "print(\"Train R2 score:\", sklearn.metrics.r2_score(y_train, train_predictions))\n",
        "test_predictions = automl.predict(X_test)\n",
        "print(\"Test R2 score:\", sklearn.metrics.r2_score(y_test, test_predictions))"
      ]
    },
    {
      "cell_type": "markdown",
      "metadata": {},
      "source": [
        "## Step 8: Plot the predictions\n",
        "Furthermore, we can now visually inspect the predictions. We plot the true value against the\n",
        "predictions and show results on train and test data. Points on the diagonal depict perfect\n",
        "predictions. Points below the diagonal were overestimated by the model (predicted value is higher\n",
        "than the true value), points above the diagonal were underestimated (predicted value is lower than\n",
        "the true value).\n",
        "\n"
      ]
    },
    {
      "cell_type": "code",
      "execution_count": null,
      "metadata": {
        "collapsed": false
      },
      "outputs": [],
      "source": [
        "plt.scatter(train_predictions, y_train, label=\"Train samples\", c=\"#d95f02\")\n",
        "plt.scatter(test_predictions, y_test, label=\"Test samples\", c=\"#7570b3\")\n",
        "plt.xlabel(\"Predicted value\")\n",
        "plt.ylabel(\"True value\")\n",
        "plt.legend()\n",
        "plt.plot([30, 400], [30, 400], c=\"k\", zorder=0)\n",
        "plt.xlim([30, 400])\n",
        "plt.ylim([30, 400])\n",
        "plt.tight_layout()\n",
        "plt.show()"
      ]
    }
  ],
  "metadata": {
    "kernelspec": {
      "display_name": "Python 3",
      "language": "python",
      "name": "python3"
    },
    "language_info": {
      "codemirror_mode": {
        "name": "ipython",
        "version": 3
      },
      "file_extension": ".py",
      "mimetype": "text/x-python",
      "name": "python",
      "nbconvert_exporter": "python",
      "pygments_lexer": "ipython3",
      "version": "3.11.8"
    }
  },
  "nbformat": 4,
  "nbformat_minor": 0
}
