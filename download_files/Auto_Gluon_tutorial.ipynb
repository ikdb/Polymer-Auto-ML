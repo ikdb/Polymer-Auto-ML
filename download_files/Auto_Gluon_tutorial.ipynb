{
 "cells": [
  {
   "cell_type": "markdown",
   "metadata": {},
   "source": [
    "Title: AutoGluon Tutorial for Tabular Data\n",
    "\n",
    "Introduction:\n",
    "In this tutorial, we will explore how to use AutoGluon for tabular data prediction. AutoGluon automates machine learning tasks, enabling you to easily achieve high-performance models.\n",
    "\n",
    "Step 1: Install Necessary Libraries"
   ]
  },
  {
   "cell_type": "code",
   "execution_count": null,
   "metadata": {},
   "outputs": [],
   "source": [
    "%pip install pandas\n",
    "%pip install autogluon\n",
    "%pip install ipython"
   ]
  },
  {
   "cell_type": "markdown",
   "metadata": {},
   "source": [
    "Step 2: Import Libraries and Load Dataset"
   ]
  },
  {
   "cell_type": "code",
   "execution_count": null,
   "metadata": {},
   "outputs": [],
   "source": [
    "from autogluon.tabular import TabularDataset, TabularPredictor\n",
    "import pandas as pd\n",
    "import numpy as np\n",
    "from IPython.display import display\n",
    "\n",
    "# Load the dataset\n",
    "df = pd.read_csv(\"/path/to/your/dataset\")\n"
   ]
  },
  {
   "cell_type": "markdown",
   "metadata": {},
   "source": [
    "Step 3: Split the Dataset into Training and Testing Sets"
   ]
  },
  {
   "cell_type": "code",
   "execution_count": null,
   "metadata": {},
   "outputs": [],
   "source": [
    "# Define the ratio of the dataset to be used for training\n",
    "# You can change the value of train_ratio to adjust the train-test split ratio\n",
    "train_ratio = 0.8\n",
    "\n",
    "# Calculate the split index\n",
    "split_index = int(len(df) * train_ratio)\n",
    "\n",
    "# Split the dataset\n",
    "train_df = df[:split_index]\n",
    "test_df = df[split_index:]"
   ]
  },
  {
   "cell_type": "markdown",
   "metadata": {},
   "source": [
    "Step 4: Prepare the Data and Train the TabularPredictor"
   ]
  },
  {
   "cell_type": "code",
   "execution_count": null,
   "metadata": {},
   "outputs": [],
   "source": [
    "# Define the target column\n",
    "target_column = \"your_target_column\"\n",
    "\n",
    "# Separate features and target variable for training and testing sets\n",
    "X_train = train_df.drop(columns=[target_column]).to_numpy()\n",
    "y_train = train_df[target_column].to_numpy()\n",
    "\n",
    "X_test = test_df.drop(columns=[target_column]).to_numpy()\n",
    "y_test = test_df[target_column].to_numpy()\n",
    "\n",
    "# Initialize and train the TabularPredictor\n",
    "predictor = TabularPredictor(label=target_column).fit(train_df)"
   ]
  },
  {
   "cell_type": "markdown",
   "metadata": {},
   "source": [
    "Step 6: Evaluate the Model"
   ]
  },
  {
   "cell_type": "code",
   "execution_count": null,
   "metadata": {},
   "outputs": [],
   "source": [
    "# Print the best model\n",
    "print(predictor.get_model_best())\n",
    "\n",
    "# Evaluate the model on test and training data\n",
    "predictor.evaluate(test_df)\n",
    "predictor.evaluate(train_df, silent=True)\n"
   ]
  },
  {
   "cell_type": "markdown",
   "metadata": {},
   "source": [
    "Step 7: Generate and Display the Model Leaderboard"
   ]
  },
  {
   "cell_type": "code",
   "execution_count": null,
   "metadata": {},
   "outputs": [],
   "source": [
    "# Generate the model leaderboard\n",
    "model_leaderboard = predictor.leaderboard(test_df, silent=True)\n",
    "\n",
    "# Display the model leaderboard\n",
    "display(model_leaderboard)\n",
    "\n",
    "# Get the list of models\n",
    "models = model_leaderboard.model.to_list()\n"
   ]
  },
  {
   "cell_type": "markdown",
   "metadata": {},
   "source": [
    "Step 8: Make Predictions and Evaluate Each Model"
   ]
  },
  {
   "cell_type": "code",
   "execution_count": null,
   "metadata": {},
   "outputs": [],
   "source": [
    "# Make predictions\n",
    "y_pred = predictor.predict(train_df.drop(columns=[target_column]))\n",
    "\n",
    "# Initialize the model overview DataFrame\n",
    "columns = ['model', 'mean_squared_error', 'mean_absolute_error', 'r2', 'pearsonr', 'median_absolute_error']\n",
    "model_overview = pd.DataFrame(columns=columns)\n",
    "\n",
    "# Evaluate each model and add the results to the model overview DataFrame\n",
    "for model in models:\n",
    "    predictor.set_model_best(model)\n",
    "    evaluation = predictor.evaluate(test_df)\n",
    "    model_overview.loc[len(model_overview)] = [model, evaluation['mean_squared_error'], evaluation['mean_absolute_error'], evaluation['r2'], evaluation['pearsonr'], evaluation['median_absolute_error']]\n",
    "\n",
    "# Display the model overview\n",
    "display(model_overview)\n"
   ]
  },
  {
   "cell_type": "markdown",
   "metadata": {},
   "source": [
    "Conclusion:\n",
    "In this tutorial, we have walked through the process of using AutoGluon for tabular data prediction, from installing the necessary libraries to evaluating different models. AutoGluon makes it easy to achieve high-performance models with minimal effort."
   ]
  }
 ],
 "metadata": {
  "language_info": {
   "name": "python"
  },
  "orig_nbformat": 4
 },
 "nbformat": 4,
 "nbformat_minor": 2
}
